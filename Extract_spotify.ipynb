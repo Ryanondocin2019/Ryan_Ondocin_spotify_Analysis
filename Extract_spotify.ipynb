{
 "cells": [
  {
   "cell_type": "code",
   "execution_count": 1,
   "metadata": {},
   "outputs": [],
   "source": [
    "import sys\n",
    "import spotipy\n",
    "import pprint\n",
    "from spotipy.oauth2 import SpotifyClientCredentials #To access authorised Spotify data\n",
    "client_id = 'XXXXXXXXXXXXXXXXXXX'\n",
    "client_secret = 'XXXXXXXXXXXXXXXX'"
   ]
  },
  {
   "cell_type": "code",
   "execution_count": 2,
   "metadata": {},
   "outputs": [],
   "source": [
    "client_credentials_manager = SpotifyClientCredentials(client_id=client_id, client_secret=client_secret)\n",
    "sp = spotipy.Spotify(client_credentials_manager=client_credentials_manager)"
   ]
  },
  {
   "cell_type": "code",
   "execution_count": 3,
   "metadata": {},
   "outputs": [
    {
     "output_type": "execute_result",
     "data": {
      "text/plain": "[{'external_urls': {'spotify': 'https://open.spotify.com/artist/03r4iKL2g2442PT9n2UKsx'},\n  'href': 'https://api.spotify.com/v1/artists/03r4iKL2g2442PT9n2UKsx',\n  'id': '03r4iKL2g2442PT9n2UKsx',\n  'name': 'Beastie Boys',\n  'type': 'artist',\n  'uri': 'spotify:artist:03r4iKL2g2442PT9n2UKsx'}]"
     },
     "metadata": {},
     "execution_count": 3
    }
   ],
   "source": [
    "name = 'Beastie Boys' #chosen artist\n",
    "result = sp.search(name) #search query\n",
    "result['tracks']['items'][0]['artists']"
   ]
  },
  {
   "cell_type": "code",
   "execution_count": 4,
   "metadata": {},
   "outputs": [],
   "source": [
    "import time"
   ]
  },
  {
   "cell_type": "code",
   "execution_count": 5,
   "metadata": {
    "scrolled": true
   },
   "outputs": [
    {
     "output_type": "execute_result",
     "data": {
      "text/plain": "['spotify:album:1yw6pIVYjbf9WoLiPkIPJv',\n 'spotify:album:4YG64sYwuBxnr9TkBUjSI1',\n 'spotify:album:1vQYbqslni0jVfvaVK2lvx',\n 'spotify:album:4ZdM8DkKgfTCz8e0wJk9CX',\n 'spotify:album:7ndbBA9C4LO0GqATIpg1iV',\n 'spotify:album:4ceCKh9j1lgoMWOzCqxqIA',\n 'spotify:album:3LTAhelcgxjKKLhgkLJ7CH',\n 'spotify:album:4nnQZQWLibK1VIhCGDFjk3',\n 'spotify:album:6FDEFp6HFTDc6wUZRVQeqp',\n 'spotify:album:2cT6Yb6EWcBhyqGd7DXeL2',\n 'spotify:album:6eGYLONkDMja0MNtZWnRRB',\n 'spotify:album:3Ba5eDpzB4yLBfJsraQM4G',\n 'spotify:album:7pFZ24pG0mosFU3jnwMZbz',\n 'spotify:album:6lfjbwFGzQ6aSNP1N3JlT8',\n 'spotify:album:290eTJ15EAYJa3JomDWyhh',\n 'spotify:album:7CSP7J60QKIBCqOV64qILq',\n 'spotify:album:04FRBQIphnjVWLyAs9j5mo',\n 'spotify:album:1kmyirVya5fRxdjsPFDM05',\n 'spotify:album:11oR0ZuqB3ucZwb5TGbZxb']"
     },
     "metadata": {},
     "execution_count": 5
    }
   ],
   "source": [
    "#Extract Artist's uri\n",
    "artist_uri = result['tracks']['items'][0]['artists'][0]['uri']\n",
    "#Pull all of the artist's albums\n",
    "sp_albums = sp.artist_albums(artist_uri, album_type='album')\n",
    "#Store artist's albums' names' and uris in separate lists\n",
    "album_names = []\n",
    "album_uris = []\n",
    "for i in range(len(sp_albums['items'])):\n",
    "    album_names.append(sp_albums['items'][i]['name'])\n",
    "    album_uris.append(sp_albums['items'][i]['uri'])\n",
    "    \n",
    "album_names\n",
    "album_uris\n",
    "#Keep names and uris in same order to keep track of duplicate albums"
   ]
  },
  {
   "cell_type": "code",
   "execution_count": 6,
   "metadata": {},
   "outputs": [],
   "source": [
    "def albumSongs(uri):\n",
    "    album = uri #assign album uri to a_name\n",
    "    spotify_albums[album] = {} #Creates dictionary for that specific album\n",
    "#Create keys-values of empty lists inside nested dictionary for album\n",
    "    spotify_albums[album]['album'] = [] #create empty list\n",
    "    spotify_albums[album]['track_number'] = []\n",
    "    spotify_albums[album]['id'] = []\n",
    "    spotify_albums[album]['name'] = []\n",
    "    spotify_albums[album]['uri'] = []\n",
    "    tracks = sp.album_tracks(album) #pull data on album tracks\n",
    "    for n in range(len(tracks['items'])): #for each song track\n",
    "        spotify_albums[album]['album'].append(album_names[album_count]) #append album name tracked via album_count\n",
    "        spotify_albums[album]['track_number'].append(tracks['items'][n]['track_number'])\n",
    "        spotify_albums[album]['id'].append(tracks['items'][n]['id'])\n",
    "        spotify_albums[album]['name'].append(tracks['items'][n]['name'])\n",
    "        spotify_albums[album]['uri'].append(tracks['items'][n]['uri'])"
   ]
  },
  {
   "cell_type": "code",
   "execution_count": 7,
   "metadata": {
    "tags": []
   },
   "outputs": [
    {
     "output_type": "stream",
     "name": "stdout",
     "text": "To The 5 Boroughs (Deluxe Version) has been added to my artist library!\nHot Sauce Committee Part Two has been added to my artist library!\nHot Sauce Committee (Pt. 2) has been added to my artist library!\nHot Sauce Committee (Pt. 2) has been added to my artist library!\nThe Mix-Up has been added to my artist library!\nThe Mix-Up has been added to my artist library!\nSolid Gold Hits has been added to my artist library!\nTo The 5 Boroughs has been added to my artist library!\nTo The 5 Boroughs has been added to my artist library!\nHello Nasty has been added to my artist library!\nHello Nasty (Deluxe Version/Remastered 2009) has been added to my artist library!\nIll Communication (Deluxe Version/Remastered) has been added to my artist library!\nIll Communication has been added to my artist library!\nIll Communication has been added to my artist library!\nIll Communication has been added to my artist library!\nCheck Your Head has been added to my artist library!\nCheck Your Head has been added to my artist library!\nPaul's Boutique (20th Anniversary Remastered Edition) has been added to my artist library!\nLicensed To Ill has been added to my artist library!\n"
    }
   ],
   "source": [
    "spotify_albums = {}\n",
    "album_count = 0\n",
    "for i in album_uris: #each album\n",
    "    albumSongs(i)\n",
    "    print(str(album_names[album_count]) + \" has been added to my artist library!\")\n",
    "    album_count+=1 #Updates album count once all tracks have been added"
   ]
  },
  {
   "cell_type": "code",
   "execution_count": 8,
   "metadata": {},
   "outputs": [],
   "source": [
    "def audio_features(album):\n",
    "    #Add new key-values to store audio features\n",
    "    spotify_albums[album]['acousticness'] = []\n",
    "    spotify_albums[album]['danceability'] = []\n",
    "    spotify_albums[album]['energy'] = []\n",
    "    spotify_albums[album]['instrumentalness'] = []\n",
    "    spotify_albums[album]['liveness'] = []\n",
    "    spotify_albums[album]['loudness'] = []\n",
    "    spotify_albums[album]['speechiness'] = []\n",
    "    spotify_albums[album]['tempo'] = []\n",
    "    spotify_albums[album]['valence'] = []\n",
    "    spotify_albums[album]['popularity'] = []\n",
    "    #create a track counter\n",
    "    track_count = 0\n",
    "    for track in spotify_albums[album]['uri']:\n",
    "        #pull audio features per track\n",
    "        features = sp.audio_features(track)\n",
    "        \n",
    "        #Append to relevant key-value\n",
    "        spotify_albums[album]['acousticness'].append(features[0]['acousticness'])\n",
    "        spotify_albums[album]['danceability'].append(features[0]['danceability'])\n",
    "        spotify_albums[album]['energy'].append(features[0]['energy'])\n",
    "        spotify_albums[album]['instrumentalness'].append(features[0]['instrumentalness'])\n",
    "        spotify_albums[album]['liveness'].append(features[0]['liveness'])\n",
    "        spotify_albums[album]['loudness'].append(features[0]['loudness'])\n",
    "        spotify_albums[album]['speechiness'].append(features[0]['speechiness'])\n",
    "        spotify_albums[album]['tempo'].append(features[0]['tempo'])\n",
    "        spotify_albums[album]['valence'].append(features[0]['valence'])\n",
    "        #popularity is stored elsewhere\n",
    "        pop = sp.track(track)\n",
    "        spotify_albums[album]['popularity'].append(pop['popularity'])\n",
    "        track_count+=1"
   ]
  },
  {
   "cell_type": "code",
   "execution_count": 9,
   "metadata": {
    "tags": []
   },
   "outputs": [
    {
     "output_type": "stream",
     "name": "stdout",
     "text": "5 playlists completed\nLoop #: 5\nElapsed Time: 21.632441997528076 seconds\n10 playlists completed\nLoop #: 10\nElapsed Time: 45.2856969833374 seconds\n15 playlists completed\nLoop #: 15\nElapsed Time: 75.13455605506897 seconds\n"
    }
   ],
   "source": [
    "import time\n",
    "import numpy as np\n",
    "sleep_min = 2\n",
    "sleep_max = 5\n",
    "start_time = time.time()\n",
    "request_count = 0\n",
    "for i in spotify_albums:\n",
    "    audio_features(i)\n",
    "    request_count+=1\n",
    "    if request_count % 5 == 0:\n",
    "        print(str(request_count) + \" playlists completed\")\n",
    "        time.sleep(np.random.uniform(sleep_min, sleep_max))\n",
    "        print('Loop #: {}'.format(request_count))\n",
    "        print('Elapsed Time: {} seconds'.format(time.time() - start_time))"
   ]
  },
  {
   "cell_type": "code",
   "execution_count": 10,
   "metadata": {},
   "outputs": [
    {
     "output_type": "execute_result",
     "data": {
      "text/plain": "444"
     },
     "metadata": {},
     "execution_count": 10
    }
   ],
   "source": [
    "dic_df = {}\n",
    "dic_df['album'] = []\n",
    "dic_df['track_number'] = []\n",
    "dic_df['id'] = []\n",
    "dic_df['name'] = []\n",
    "dic_df['uri'] = []\n",
    "dic_df['acousticness'] = []\n",
    "dic_df['danceability'] = []\n",
    "dic_df['energy'] = []\n",
    "dic_df['instrumentalness'] = []\n",
    "dic_df['liveness'] = []\n",
    "dic_df['loudness'] = []\n",
    "dic_df['speechiness'] = []\n",
    "dic_df['tempo'] = []\n",
    "dic_df['valence'] = []\n",
    "dic_df['popularity'] = []\n",
    "for album in spotify_albums: \n",
    "    for feature in spotify_albums[album]:\n",
    "        dic_df[feature].extend(spotify_albums[album][feature])\n",
    "        \n",
    "len(dic_df['album'])"
   ]
  },
  {
   "cell_type": "code",
   "execution_count": 11,
   "metadata": {},
   "outputs": [
    {
     "output_type": "execute_result",
     "data": {
      "text/plain": "                                  album  track_number                      id  \\\n0    To The 5 Boroughs (Deluxe Version)             1  4hxw7Js3F9BY6oxaG4Obxb   \n1    To The 5 Boroughs (Deluxe Version)             2  2at8rrd3fySOMeOW4c5gJ0   \n2    To The 5 Boroughs (Deluxe Version)             3  3cpMfY4vRVVVUZQUoe71XT   \n3    To The 5 Boroughs (Deluxe Version)             4  2GEspo44Re9tS8gQbCwC6i   \n4    To The 5 Boroughs (Deluxe Version)             5  35USwLXpfuv6bJb7NpWudN   \n..                                  ...           ...                     ...   \n439                     Licensed To Ill             9  3gKwVWwKmeuFtPubICbOGc   \n440                     Licensed To Ill            10  3C8xkK4Cir2QmiaN07GIZs   \n441                     Licensed To Ill            11  2tY1gxCKslfXLFpFofYmJQ   \n442                     Licensed To Ill            12  3vull6iBmoDFACC8TRVabm   \n443                     Licensed To Ill            13  1WJg8vRU9O799Sp9f77TDG   \n\n                                   name                                   uri  \\\n0                       Ch-Check It Out  spotify:track:4hxw7Js3F9BY6oxaG4Obxb   \n1                   Right Right Now Now  spotify:track:2at8rrd3fySOMeOW4c5gJ0   \n2                        3 The Hard Way  spotify:track:3cpMfY4vRVVVUZQUoe71XT   \n3    It Takes Time To Build - With Skit  spotify:track:2GEspo44Re9tS8gQbCwC6i   \n4                  Rhyme The Rhyme Well  spotify:track:35USwLXpfuv6bJb7NpWudN   \n..                                  ...                                   ...   \n439                         Paul Revere  spotify:track:3gKwVWwKmeuFtPubICbOGc   \n440                 Hold It Now, Hit It  spotify:track:3C8xkK4Cir2QmiaN07GIZs   \n441                        Brass Monkey  spotify:track:2tY1gxCKslfXLFpFofYmJQ   \n442                        Slow And Low  spotify:track:3vull6iBmoDFACC8TRVabm   \n443                     Time To Get Ill  spotify:track:1WJg8vRU9O799Sp9f77TDG   \n\n     acousticness  danceability  energy  instrumentalness  liveness  loudness  \\\n0         0.07070         0.795   0.898          0.000000    0.0847    -7.028   \n1         0.21100         0.810   0.841          0.000003    0.1630    -6.090   \n2         0.37200         0.907   0.843          0.000000    0.1000    -8.604   \n3         0.00416         0.821   0.833          0.000101    0.1120    -7.920   \n4         0.07320         0.855   0.754          0.006400    0.2190    -7.729   \n..            ...           ...     ...               ...       ...       ...   \n439       0.01610         0.883   0.553          0.000000    0.2280   -13.232   \n440       0.01230         0.791   0.738          0.000000    0.3510    -8.768   \n441       0.00203         0.914   0.586          0.000002    0.0992    -8.435   \n442       0.04060         0.665   0.615          0.000000    0.9200    -9.245   \n443       0.00136         0.874   0.608          0.000020    0.3310    -9.763   \n\n     speechiness    tempo  valence  popularity  \n0         0.3010  115.044    0.672          38  \n1         0.0615  101.006    0.644          36  \n2         0.3240   92.970    0.644          34  \n3         0.0973   94.993    0.631          33  \n4         0.1760   98.990    0.334          33  \n..           ...      ...      ...         ...  \n439       0.9440   91.753    0.578          60  \n440       0.3550   95.300    0.891          49  \n441       0.3300  116.371    0.655          64  \n442       0.3950  168.760    0.692          46  \n443       0.3330   97.806    0.392          49  \n\n[444 rows x 15 columns]",
      "text/html": "<div>\n<style scoped>\n    .dataframe tbody tr th:only-of-type {\n        vertical-align: middle;\n    }\n\n    .dataframe tbody tr th {\n        vertical-align: top;\n    }\n\n    .dataframe thead th {\n        text-align: right;\n    }\n</style>\n<table border=\"1\" class=\"dataframe\">\n  <thead>\n    <tr style=\"text-align: right;\">\n      <th></th>\n      <th>album</th>\n      <th>track_number</th>\n      <th>id</th>\n      <th>name</th>\n      <th>uri</th>\n      <th>acousticness</th>\n      <th>danceability</th>\n      <th>energy</th>\n      <th>instrumentalness</th>\n      <th>liveness</th>\n      <th>loudness</th>\n      <th>speechiness</th>\n      <th>tempo</th>\n      <th>valence</th>\n      <th>popularity</th>\n    </tr>\n  </thead>\n  <tbody>\n    <tr>\n      <th>0</th>\n      <td>To The 5 Boroughs (Deluxe Version)</td>\n      <td>1</td>\n      <td>4hxw7Js3F9BY6oxaG4Obxb</td>\n      <td>Ch-Check It Out</td>\n      <td>spotify:track:4hxw7Js3F9BY6oxaG4Obxb</td>\n      <td>0.07070</td>\n      <td>0.795</td>\n      <td>0.898</td>\n      <td>0.000000</td>\n      <td>0.0847</td>\n      <td>-7.028</td>\n      <td>0.3010</td>\n      <td>115.044</td>\n      <td>0.672</td>\n      <td>38</td>\n    </tr>\n    <tr>\n      <th>1</th>\n      <td>To The 5 Boroughs (Deluxe Version)</td>\n      <td>2</td>\n      <td>2at8rrd3fySOMeOW4c5gJ0</td>\n      <td>Right Right Now Now</td>\n      <td>spotify:track:2at8rrd3fySOMeOW4c5gJ0</td>\n      <td>0.21100</td>\n      <td>0.810</td>\n      <td>0.841</td>\n      <td>0.000003</td>\n      <td>0.1630</td>\n      <td>-6.090</td>\n      <td>0.0615</td>\n      <td>101.006</td>\n      <td>0.644</td>\n      <td>36</td>\n    </tr>\n    <tr>\n      <th>2</th>\n      <td>To The 5 Boroughs (Deluxe Version)</td>\n      <td>3</td>\n      <td>3cpMfY4vRVVVUZQUoe71XT</td>\n      <td>3 The Hard Way</td>\n      <td>spotify:track:3cpMfY4vRVVVUZQUoe71XT</td>\n      <td>0.37200</td>\n      <td>0.907</td>\n      <td>0.843</td>\n      <td>0.000000</td>\n      <td>0.1000</td>\n      <td>-8.604</td>\n      <td>0.3240</td>\n      <td>92.970</td>\n      <td>0.644</td>\n      <td>34</td>\n    </tr>\n    <tr>\n      <th>3</th>\n      <td>To The 5 Boroughs (Deluxe Version)</td>\n      <td>4</td>\n      <td>2GEspo44Re9tS8gQbCwC6i</td>\n      <td>It Takes Time To Build - With Skit</td>\n      <td>spotify:track:2GEspo44Re9tS8gQbCwC6i</td>\n      <td>0.00416</td>\n      <td>0.821</td>\n      <td>0.833</td>\n      <td>0.000101</td>\n      <td>0.1120</td>\n      <td>-7.920</td>\n      <td>0.0973</td>\n      <td>94.993</td>\n      <td>0.631</td>\n      <td>33</td>\n    </tr>\n    <tr>\n      <th>4</th>\n      <td>To The 5 Boroughs (Deluxe Version)</td>\n      <td>5</td>\n      <td>35USwLXpfuv6bJb7NpWudN</td>\n      <td>Rhyme The Rhyme Well</td>\n      <td>spotify:track:35USwLXpfuv6bJb7NpWudN</td>\n      <td>0.07320</td>\n      <td>0.855</td>\n      <td>0.754</td>\n      <td>0.006400</td>\n      <td>0.2190</td>\n      <td>-7.729</td>\n      <td>0.1760</td>\n      <td>98.990</td>\n      <td>0.334</td>\n      <td>33</td>\n    </tr>\n    <tr>\n      <th>...</th>\n      <td>...</td>\n      <td>...</td>\n      <td>...</td>\n      <td>...</td>\n      <td>...</td>\n      <td>...</td>\n      <td>...</td>\n      <td>...</td>\n      <td>...</td>\n      <td>...</td>\n      <td>...</td>\n      <td>...</td>\n      <td>...</td>\n      <td>...</td>\n      <td>...</td>\n    </tr>\n    <tr>\n      <th>439</th>\n      <td>Licensed To Ill</td>\n      <td>9</td>\n      <td>3gKwVWwKmeuFtPubICbOGc</td>\n      <td>Paul Revere</td>\n      <td>spotify:track:3gKwVWwKmeuFtPubICbOGc</td>\n      <td>0.01610</td>\n      <td>0.883</td>\n      <td>0.553</td>\n      <td>0.000000</td>\n      <td>0.2280</td>\n      <td>-13.232</td>\n      <td>0.9440</td>\n      <td>91.753</td>\n      <td>0.578</td>\n      <td>60</td>\n    </tr>\n    <tr>\n      <th>440</th>\n      <td>Licensed To Ill</td>\n      <td>10</td>\n      <td>3C8xkK4Cir2QmiaN07GIZs</td>\n      <td>Hold It Now, Hit It</td>\n      <td>spotify:track:3C8xkK4Cir2QmiaN07GIZs</td>\n      <td>0.01230</td>\n      <td>0.791</td>\n      <td>0.738</td>\n      <td>0.000000</td>\n      <td>0.3510</td>\n      <td>-8.768</td>\n      <td>0.3550</td>\n      <td>95.300</td>\n      <td>0.891</td>\n      <td>49</td>\n    </tr>\n    <tr>\n      <th>441</th>\n      <td>Licensed To Ill</td>\n      <td>11</td>\n      <td>2tY1gxCKslfXLFpFofYmJQ</td>\n      <td>Brass Monkey</td>\n      <td>spotify:track:2tY1gxCKslfXLFpFofYmJQ</td>\n      <td>0.00203</td>\n      <td>0.914</td>\n      <td>0.586</td>\n      <td>0.000002</td>\n      <td>0.0992</td>\n      <td>-8.435</td>\n      <td>0.3300</td>\n      <td>116.371</td>\n      <td>0.655</td>\n      <td>64</td>\n    </tr>\n    <tr>\n      <th>442</th>\n      <td>Licensed To Ill</td>\n      <td>12</td>\n      <td>3vull6iBmoDFACC8TRVabm</td>\n      <td>Slow And Low</td>\n      <td>spotify:track:3vull6iBmoDFACC8TRVabm</td>\n      <td>0.04060</td>\n      <td>0.665</td>\n      <td>0.615</td>\n      <td>0.000000</td>\n      <td>0.9200</td>\n      <td>-9.245</td>\n      <td>0.3950</td>\n      <td>168.760</td>\n      <td>0.692</td>\n      <td>46</td>\n    </tr>\n    <tr>\n      <th>443</th>\n      <td>Licensed To Ill</td>\n      <td>13</td>\n      <td>1WJg8vRU9O799Sp9f77TDG</td>\n      <td>Time To Get Ill</td>\n      <td>spotify:track:1WJg8vRU9O799Sp9f77TDG</td>\n      <td>0.00136</td>\n      <td>0.874</td>\n      <td>0.608</td>\n      <td>0.000020</td>\n      <td>0.3310</td>\n      <td>-9.763</td>\n      <td>0.3330</td>\n      <td>97.806</td>\n      <td>0.392</td>\n      <td>49</td>\n    </tr>\n  </tbody>\n</table>\n<p>444 rows × 15 columns</p>\n</div>"
     },
     "metadata": {},
     "execution_count": 11
    }
   ],
   "source": [
    "import pandas as pd\n",
    "df = pd.DataFrame.from_dict(dic_df)\n",
    "df"
   ]
  },
  {
   "cell_type": "code",
   "execution_count": 12,
   "metadata": {},
   "outputs": [],
   "source": [
    "df.to_csv('beastie_spotify_features.csv')"
   ]
  },
  {
   "cell_type": "code",
   "execution_count": null,
   "metadata": {},
   "outputs": [],
   "source": []
  }
 ],
 "metadata": {
  "kernelspec": {
   "display_name": "Python 3",
   "language": "python",
   "name": "python3"
  },
  "language_info": {
   "codemirror_mode": {
    "name": "ipython",
    "version": 3
   },
   "file_extension": ".py",
   "mimetype": "text/x-python",
   "name": "python",
   "nbconvert_exporter": "python",
   "pygments_lexer": "ipython3",
   "version": "3.7.4-final"
  }
 },
 "nbformat": 4,
 "nbformat_minor": 2
}
